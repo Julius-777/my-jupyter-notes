{
 "cells": [
  {
   "cell_type": "code",
   "execution_count": 1,
   "metadata": {},
   "outputs": [],
   "source": [
    "import yfinance as yf\n",
    "import pandas as pd\n",
    "\n",
    "from quant import Portfolio\n"
   ]
  },
  {
   "cell_type": "code",
   "execution_count": 3,
   "metadata": {},
   "outputs": [
    {
     "name": "stdout",
     "output_type": "stream",
     "text": [
      "[*********************100%***********************]  4 of 4 completed\n"
     ]
    }
   ],
   "source": [
    "portfolio = Portfolio([\"BTC-USD\",\"DBE\", \"ARKK\", \"GOLD.AX\"], start_date='2020-01-01', end_date='2022-12-31')\n",
    "# weights = portfolio.compute_portfolio(model=\"max_sharpe\", rebalance_freq=\"\")\n",
    "# portfolio.compute_metrics(weights,  rebalance_freq='')  \n",
    "# weights = portfolio.hrp_allocation(portfolio.returns, verbose=True)\n",
    "# print(weights)\n",
    "# portfolio.compute_metrics(weights)"
   ]
  },
  {
   "cell_type": "code",
   "execution_count": null,
   "metadata": {},
   "outputs": [],
   "source": [
    "# # Required Libraries\n",
    "# from PyPortfolioOpt.pypfopt.efficient_frontier import EfficientFrontier\n",
    "# from PyPortfolioOpt.pypfopt import risk_models\n",
    "# from PyPortfolioOpt.pypfopt import expected_returns\n",
    "# from PyPortfolioOpt.pypfopt import HRPOpt\n",
    "# from PyPortfolioOpt.pypfopt import objective_functions"
   ]
  },
  {
   "cell_type": "code",
   "execution_count": null,
   "metadata": {},
   "outputs": [],
   "source": [
    "# class Portfolio:\n",
    "#     def __init__(self, ticker_list, start_date, end_date, rebalance_freq='Q'):\n",
    "#         self.ticker_list = ticker_list\n",
    "#         self.start_date = start_date\n",
    "#         self.end_date = end_date\n",
    "#         self.rebalance_freq = rebalance_freq\n",
    "#         self.data = self._download_data()\n",
    "#         self.ef = None\n",
    "#         self.weights = None\n",
    "\n",
    "#     def _download_data(self):\n",
    "#         prices = yf.download(self.ticker_list, start=self.start_date, end=self.end_date)['Adj Close']\n",
    "#         return prices.resample(self.rebalance_freq).last()\n",
    "\n",
    "#     def compute_ef(self):\n",
    "#         mu = expected_returns.mean_historical_return(self.data)\n",
    "#         S = risk_models.sample_cov(self.data)\n",
    "#         self.ef_ms = EfficientFrontier(mu, S)\n",
    "#         self.ef_mv = EfficientFrontier(mu, S)\n",
    "\n",
    "#     def max_sharpe(self):\n",
    "#         self.weights = self.ef_ms.max_sharpe()\n",
    "#         self.ef_ms.portfolio_performance(verbose=True)\n",
    "\n",
    "#     def min_volatility(self):\n",
    "#         self.weights = self.ef_mv.min_volatility()\n",
    "#         self.ef_mv.portfolio_performance(verbose=True)\n",
    "\n",
    "#     def hrp_allocation(self):\n",
    "#         hrp = HRPOpt(self.data.pct_change().dropna())\n",
    "#         self.weights = hrp.optimize()\n",
    "#         hrp.portfolio_performance(verbose=True)\n",
    "        \n",
    "# # Create an instance of the class\n",
    "# portfolio = Portfolio([\"DBE\", \"GOLD.AX\", \"ARKK\", \"TLT\"], start_date='2016-01-01', end_date='2022-12-31')\n",
    "\n",
    "# print(\"Compute Efficient Frontier\")\n",
    "# portfolio.compute_ef()\n",
    "# print(portfolio.weights)\n",
    "\n",
    "# print(\"\\n# Maximize Sharpe Ratio\")\n",
    "# portfolio.max_sharpe()\n",
    "# print(portfolio.weights)\n",
    "\n",
    "# print(\"\\n# Minimum Volatility\")\n",
    "# portfolio.min_volatility()\n",
    "# print(portfolio.weights)\n",
    "\n",
    "# print(\"\\n# HRP Allocation\")\n",
    "# portfolio.hrp_allocation()\n",
    "# print(portfolio.weights) "
   ]
  }
 ],
 "metadata": {
  "kernelspec": {
   "display_name": "finance",
   "language": "python",
   "name": "python3"
  },
  "language_info": {
   "codemirror_mode": {
    "name": "ipython",
    "version": 3
   },
   "file_extension": ".py",
   "mimetype": "text/x-python",
   "name": "python",
   "nbconvert_exporter": "python",
   "pygments_lexer": "ipython3",
   "version": "3.9.16"
  },
  "orig_nbformat": 4
 },
 "nbformat": 4,
 "nbformat_minor": 2
}
