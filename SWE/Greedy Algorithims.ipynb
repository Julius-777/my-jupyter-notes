{
 "cells": [
  {
   "cell_type": "markdown",
   "metadata": {},
   "source": [
    "## Greedy Algorithim\n",
    "\n",
    "Greedy programming is a method by which a solution is determined based on making the locally optimal choice at any given moment.\n",
    "if it works correctly, its running time is usually faster than those of dynamic programming or brute-force which is the next go to when there is no optimal solution."
   ]
  },
  {
   "cell_type": "code",
   "execution_count": 16,
   "metadata": {},
   "outputs": [],
   "source": [
    "## Example\n",
    "#Consider n denominations 0 < m0 <= m1 <= . . . <= mn−1 and the amount k to be paid.\n",
    "#A correct algorithm should always return the minimum number of coins\n",
    "\n",
    "#Algorithim below does not always return optimal solution as shown\n",
    "def greedyCoinChanging(M, k):\n",
    "    n = len(M)\n",
    "    result = []\n",
    "    for i in range(n - 1, -1, -1):\n",
    "        result += [(M[i], k // M[i])]\n",
    "        print(f'{k}//{M[i]} ={k // M[i]}')\n",
    "        k %= M[i]\n",
    "    return result"
   ]
  },
  {
   "cell_type": "code",
   "execution_count": 17,
   "metadata": {},
   "outputs": [
    {
     "name": "stdout",
     "output_type": "stream",
     "text": [
      "6//4 =1\n",
      "2//3 =0\n",
      "2//1 =2\n"
     ]
    },
    {
     "data": {
      "text/plain": [
       "[(4, 1), (3, 0), (1, 2)]"
      ]
     },
     "execution_count": 17,
     "metadata": {},
     "output_type": "execute_result"
    }
   ],
   "source": [
    "#The time complexity of the above algorithm is O(n) as the number of coins is added once for every denomination.\n",
    "M = [1,3,4]\n",
    "k = 6\n",
    "greedyCoinChanging(M, k)"
   ]
  },
  {
   "cell_type": "code",
   "execution_count": 8,
   "metadata": {},
   "outputs": [
    {
     "data": {
      "text/plain": [
       "2"
      ]
     },
     "execution_count": 8,
     "metadata": {},
     "output_type": "execute_result"
    }
   ],
   "source": [
    "10//5"
   ]
  },
  {
   "cell_type": "code",
   "execution_count": null,
   "metadata": {},
   "outputs": [],
   "source": []
  }
 ],
 "metadata": {
  "kernelspec": {
   "display_name": "Python 3",
   "language": "python",
   "name": "python3"
  },
  "language_info": {
   "codemirror_mode": {
    "name": "ipython",
    "version": 3
   },
   "file_extension": ".py",
   "mimetype": "text/x-python",
   "name": "python",
   "nbconvert_exporter": "python",
   "pygments_lexer": "ipython3",
   "version": "3.7.4"
  }
 },
 "nbformat": 4,
 "nbformat_minor": 2
}
