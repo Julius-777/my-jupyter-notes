{
 "cells": [
  {
   "attachments": {},
   "cell_type": "markdown",
   "metadata": {},
   "source": [
    "# Sorting Summary\n",
    "More info at: https://codility.com/media/train/4-Sorting.pdf.\n",
    "\n",
    "**TIP**: *Built-in sort in Python A.sort() has runtime of $O(n log n)$*\n",
    "\n",
    "\n",
    "![image.png](https://i.stack.imgur.com/dlXVP.png)"
   ]
  },
  {
   "cell_type": "markdown",
   "metadata": {},
   "source": [
    "## Counting Sort"
   ]
  },
  {
   "cell_type": "markdown",
   "metadata": {},
   "source": [
    "The idea: First, count the elements in the array of counters (see chapter 2). \n",
    "Next, just iterate through the array of counters in increasing order.\n",
    "Notice that we have to know the range of the sorted values.\n",
    "If all the elements are in the set {0, 1, . . . , k}, then the array used for counting should be of size k + 1. \n",
    "The limitation here may be available memory.\n",
    "\n",
    "* The time complexity here is $O(n + k)$.\n",
    "* We need additional memory $O(k)$ to count all the elements.\n",
    "* *Memory issue can be peharps resolved using a hashtable (dictionary)instead of having an array of length k*\n",
    "\n"
   ]
  },
  {
   "cell_type": "code",
   "execution_count": 42,
   "metadata": {},
   "outputs": [],
   "source": [
    "def countingSort(A, k):\n",
    "    n = len(A)\n",
    "    count = [0] * (k + 1)\n",
    "    for i in range(n):\n",
    "        count[A[i]] += 1\n",
    "        p = 0\n",
    "#     print(\"Index\",list(range(k+1)))\n",
    "#     print(\"Count\",count)\n",
    "    \n",
    "    for i in range(1,k+1):\n",
    "        count[i] += count[i-1]\n",
    "        for j in range(count[i-1],count[i]):\n",
    "            A[j] = i\n",
    "    ##print(\"add previous counts\\n\",count)\n",
    "\n",
    "    return A"
   ]
  },
  {
   "cell_type": "code",
   "execution_count": 43,
   "metadata": {},
   "outputs": [
    {
     "name": "stdout",
     "output_type": "stream",
     "text": [
      "Index [0, 1, 2, 3, 4, 5, 6, 7, 8, 9, 10]\n",
      "Count [0, 2, 0, 1, 2, 1, 0, 1, 0, 0, 0]\n",
      "add previous counts\n",
      " [0, 2, 2, 3, 5, 6, 6, 7, 7, 7, 7]\n",
      "Sorted: [1, 1, 3, 4, 4, 5, 7]\n"
     ]
    }
   ],
   "source": [
    "A = [4,3,7,1,1,5,4]\n",
    "k = 10\n",
    "# n < k + 1\n",
    "print(\"Sorted:\",countingSort(A,k))\n"
   ]
  },
  {
   "cell_type": "markdown",
   "metadata": {},
   "source": [
    "## Quick Sort"
   ]
  },
  {
   "cell_type": "markdown",
   "metadata": {},
   "source": [
    "Merge sort is more efficient and works faster than quick sort in case of larger array size or datasets. \n",
    "Quick sort is more efficient and works faster than merge sort in case of smaller array size or datasets."
   ]
  },
  {
   "cell_type": "markdown",
   "metadata": {},
   "source": [
    "## Merge Sort"
   ]
  },
  {
   "cell_type": "markdown",
   "metadata": {},
   "source": [
    "*Time complexity $O(nlogn)$  and best implemented recursively.*\n",
    "* For each level, the merging of the all consecutive pairs of slices requires $O(n)$ time\n",
    "* The merging of two sorted arrays consisting of k elements takes $O(k)$ time;\n",
    "* The number of levels is $O(log n)$\n",
    "\n",
    "Like QuickSort, Merge Sort is a Divide and Conquer algorithm. \n",
    "Always divides the array in two halves sort each half separately then merges them. \n",
    "It calls itself for the left and right halves till it can no longer divide."
   ]
  },
  {
   "cell_type": "code",
   "execution_count": 49,
   "metadata": {},
   "outputs": [],
   "source": [
    "# Python program for implementation of MergeSort \n",
    "  \n",
    "# Merges two subarrays of arr[]. \n",
    "# First subarray is arr[l..m] \n",
    "# Second subarray is arr[m+1..r] \n",
    "def merge(arr, l, m, r): \n",
    "    n1 = m - l + 1\n",
    "    n2 = r- m \n",
    "  \n",
    "    # create temp arrays \n",
    "    L = [0] * (n1) \n",
    "    R = [0] * (n2) \n",
    "  \n",
    "    # Copy data to temp arrays L[] and R[] \n",
    "    for i in range(0 , n1): \n",
    "        L[i] = arr[l + i] \n",
    "  \n",
    "    for j in range(0 , n2): \n",
    "        R[j] = arr[m + 1 + j] \n",
    "  \n",
    "    # Merge the temp arrays back into arr[l..r] \n",
    "    i = 0     # Initial index of first subarray \n",
    "    j = 0     # Initial index of second subarray \n",
    "    k = l     # Initial index of merged subarray \n",
    "  \n",
    "    while i < n1 and j < n2 : \n",
    "        if L[i] <= R[j]: \n",
    "            arr[k] = L[i] \n",
    "            i += 1\n",
    "        else: \n",
    "            arr[k] = R[j] \n",
    "            j += 1\n",
    "        k += 1\n",
    "  \n",
    "    # Copy the remaining elements of L[], if there \n",
    "    # are any \n",
    "    while i < n1: \n",
    "        arr[k] = L[i] \n",
    "        i += 1\n",
    "        k += 1\n",
    "  \n",
    "    # Copy the remaining elements of R[], if there \n",
    "    # are any \n",
    "    while j < n2: \n",
    "        arr[k] = R[j] \n",
    "        j += 1\n",
    "        k += 1"
   ]
  },
  {
   "cell_type": "code",
   "execution_count": 50,
   "metadata": {},
   "outputs": [],
   "source": [
    "# l is for left index and r is right index of the \n",
    "# sub-array of arr to be sorted \n",
    "def mergeSort(arr,l,r): \n",
    "    if l < r: \n",
    "  \n",
    "        # Same as (l+r)//2, but avoids overflow for \n",
    "        # large l and h \n",
    "        m = (l+(r-1))//2\n",
    "  \n",
    "        # Sort first and second halves \n",
    "        mergeSort(arr, l, m) \n",
    "        mergeSort(arr, m+1, r) \n",
    "        merge(arr, l, m, r) "
   ]
  },
  {
   "cell_type": "code",
   "execution_count": 52,
   "metadata": {},
   "outputs": [
    {
     "name": "stdout",
     "output_type": "stream",
     "text": [
      "Given array is [12, 11, 13, 5, 6, 7]\n",
      "\n",
      "\n",
      "Sorted array is [5, 6, 7, 11, 12, 13]\n"
     ]
    }
   ],
   "source": [
    "  \n",
    "# Driver code to test above \n",
    "arr = [12, 11, 13, 5, 6, 7] \n",
    "n = len(arr) \n",
    "print (\"Given array is\",arr)\n",
    "mergeSort(arr,0,n-1) \n",
    "print (\"\\n\\nSorted array is\",arr)\n",
    "  \n",
    "# This code is contributed by Mohit Kumra "
   ]
  },
  {
   "cell_type": "markdown",
   "metadata": {},
   "source": [
    "## Bubble Sort"
   ]
  },
  {
   "cell_type": "markdown",
   "metadata": {},
   "source": [
    "*Runtime Complexity: As expected, the algorithm's complexity is $O\\big(n^2\\big)$.*\n",
    "\n",
    "This is the simplest and most inefficent method of sorting.\n",
    "* Bubble sort is a stable sort with a space complexity of $O(1)$\n",
    "* It can only run in its best-case running time of $O(n)$ when the input list is already sorted.\n",
    "\n",
    "\n",
    "\n",
    "Cite as: Bubble Sort. Brilliant.org. Retrieved 11:47, August 7, 2020, from https://brilliant.org/wiki/bubble-sort/\n"
   ]
  },
  {
   "cell_type": "code",
   "execution_count": 45,
   "metadata": {},
   "outputs": [],
   "source": [
    "def bubbleSort(arr): \n",
    "    n = len(arr) \n",
    "  \n",
    "    # Traverse through all array elements \n",
    "    for i in range(n-1): \n",
    "    # range(n) also work but outer loop will repeat one time more than needed. \n",
    "  \n",
    "        # Last i elements are already in place \n",
    "        for j in range(0, n-i-1): \n",
    "  \n",
    "            # traverse the array from 0 to n-i-1 \n",
    "            # Swap if the element found is greater \n",
    "            # than the next element \n",
    "            if arr[j] > arr[j+1] : \n",
    "                arr[j], arr[j+1] = arr[j+1], arr[j]"
   ]
  },
  {
   "cell_type": "code",
   "execution_count": 47,
   "metadata": {},
   "outputs": [
    {
     "name": "stdout",
     "output_type": "stream",
     "text": [
      "Sorted array is: [11, 12, 22, 25, 34, 64, 90]\n"
     ]
    }
   ],
   "source": [
    "# Driver code to test above \n",
    "arr = [64, 34, 25, 12, 22, 11, 90] \n",
    "  \n",
    "bubbleSort(arr) \n",
    "  \n",
    "print (\"Sorted array is:\",arr) "
   ]
  },
  {
   "cell_type": "code",
   "execution_count": null,
   "metadata": {},
   "outputs": [],
   "source": []
  }
 ],
 "metadata": {
  "kernelspec": {
   "display_name": "Python 3",
   "language": "python",
   "name": "python3"
  },
  "language_info": {
   "codemirror_mode": {
    "name": "ipython",
    "version": 3
   },
   "file_extension": ".py",
   "mimetype": "text/x-python",
   "name": "python",
   "nbconvert_exporter": "python",
   "pygments_lexer": "ipython3",
   "version": "3.7.4"
  }
 },
 "nbformat": 4,
 "nbformat_minor": 2
}
