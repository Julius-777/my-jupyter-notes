{
 "cells": [
  {
   "cell_type": "markdown",
   "metadata": {},
   "source": [
    "# 1. Binary Search"
   ]
  },
  {
   "cell_type": "markdown",
   "metadata": {},
   "source": [
    "Binary search looks through a **sorted list** to see if a desired element is in the list. \n",
    "It does this efficiently by halving the search space during each iteration of the program.\n",
    "Binary search has a worst-case and average-case running time of $O(log n)$, making $O(logn)$ comparisons, where $n$ is the number of elements in the array\n",
    "![BinaryTreeSearch](https://d18l82el6cdm1i.cloudfront.net/uploads/bePceUMnSG-binary_search_gif.gif \"Binary Search\")\n"
   ]
  },
  {
   "cell_type": "code",
   "execution_count": null,
   "metadata": {},
   "outputs": [],
   "source": []
  },
  {
   "cell_type": "code",
   "execution_count": 1,
   "metadata": {},
   "outputs": [],
   "source": [
    "def binary_search_recursive(listOfInts, elem, start=0, end=None):\n",
    "    if end is None:\n",
    "        end = len(listOfInts) - 1\n",
    "        \n",
    "    if start > end:\n",
    "        return 'Value not found in list'\n",
    "\n",
    "    mid = (start + end) // 2\n",
    "    if elem == listOfInts[mid]:\n",
    "        return mid\n",
    "    \n",
    "    if elem < listOfInts[mid]:\n",
    "        return binary_search_recursive(listOfInts, elem, start, mid-1)\n",
    "    \n",
    "    # elem > listOfInts[mid]\n",
    "    return binary_search_recursive(listOfInts, elem, mid+1, end)\n"
   ]
  },
  {
   "cell_type": "code",
   "execution_count": 1,
   "metadata": {},
   "outputs": [
    {
     "ename": "NameError",
     "evalue": "name 'binary_search_recursive' is not defined",
     "output_type": "error",
     "traceback": [
      "\u001b[1;31m---------------------------------------------------------------------------\u001b[0m",
      "\u001b[1;31mNameError\u001b[0m                                 Traceback (most recent call last)",
      "\u001b[1;32m<ipython-input-1-0974cf67fc70>\u001b[0m in \u001b[0;36m<module>\u001b[1;34m\u001b[0m\n\u001b[0;32m      1\u001b[0m \u001b[0mlistOfInts\u001b[0m \u001b[1;33m=\u001b[0m \u001b[1;33m[\u001b[0m\u001b[1;36m0\u001b[0m\u001b[1;33m,\u001b[0m\u001b[1;36m2\u001b[0m\u001b[1;33m,\u001b[0m\u001b[1;36m5\u001b[0m\u001b[1;33m,\u001b[0m\u001b[1;36m5\u001b[0m\u001b[1;33m,\u001b[0m\u001b[1;36m9\u001b[0m\u001b[1;33m,\u001b[0m\u001b[1;36m10\u001b[0m\u001b[1;33m,\u001b[0m\u001b[1;36m11\u001b[0m\u001b[1;33m,\u001b[0m\u001b[1;36m12\u001b[0m\u001b[1;33m,\u001b[0m\u001b[1;36m14\u001b[0m\u001b[1;33m,\u001b[0m\u001b[1;36m15\u001b[0m\u001b[1;33m]\u001b[0m\u001b[1;33m\u001b[0m\u001b[1;33m\u001b[0m\u001b[0m\n\u001b[0;32m      2\u001b[0m \u001b[1;33m\u001b[0m\u001b[0m\n\u001b[1;32m----> 3\u001b[1;33m \u001b[0mprint\u001b[0m \u001b[1;33m(\u001b[0m\u001b[0mbinary_search_recursive\u001b[0m\u001b[1;33m(\u001b[0m\u001b[0mlistOfInts\u001b[0m\u001b[1;33m,\u001b[0m \u001b[1;36m14\u001b[0m\u001b[1;33m)\u001b[0m\u001b[1;33m)\u001b[0m\u001b[1;33m\u001b[0m\u001b[1;33m\u001b[0m\u001b[0m\n\u001b[0m",
      "\u001b[1;31mNameError\u001b[0m: name 'binary_search_recursive' is not defined"
     ]
    }
   ],
   "source": [
    "listOfInts = [0,2,5,5,9,10,11,12,14,15]\n",
    "\n",
    "print (binary_search_recursive(listOfInts, 14))"
   ]
  },
  {
   "cell_type": "markdown",
   "metadata": {},
   "source": [
    "### In Built Methods\n",
    "The C++ standard library contains the following functions that are based on binary search and work in logarithmic time:\n",
    "* lower_bound returns a pointer to the first array element whose value is at least x.\n",
    "* upper_bound returns a pointer to the first array element whose value is larger than x.\n",
    "* equal_range returns both above pointers.\n",
    "#### Python Equivelent\n",
    "https://docs.python.org/3/library/bisect.html\n",
    "This module provides support for maintaining a list in sorted order without having to sort the list after each insertion. \n",
    "For long lists of items with expensive comparison operations, this can be an improvement over the more common approach."
   ]
  },
  {
   "cell_type": "markdown",
   "metadata": {},
   "source": [
    "## Tree's\n",
    "\n",
    "Binary search trees (also binary trees or BSTs) contain sorted data arranged in a tree-like structure. A binary tree consists of \"root\" and \"leaf\" data points, or nodes, that branch out in two directions. \n",
    "\n",
    "*More info at https://brilliant.org/wiki/binary-search-trees/*\n",
    "\n",
    "### Min Heap\n",
    "\n",
    "### BFS\n",
    "![Tree Travasel](https://d18l82el6cdm1i.cloudfront.net/uploads/jxTW76g4MR-traversal.gif \"Searching Tree\")\n",
    "\n",
    "### DFS"
   ]
  },
  {
   "cell_type": "markdown",
   "metadata": {},
   "source": []
  },
  {
   "cell_type": "markdown",
   "metadata": {},
   "source": []
  },
  {
   "cell_type": "code",
   "execution_count": null,
   "metadata": {},
   "outputs": [],
   "source": []
  }
 ],
 "metadata": {
  "kernelspec": {
   "display_name": "Python 3",
   "language": "python",
   "name": "python3"
  },
  "language_info": {
   "codemirror_mode": {
    "name": "ipython",
    "version": 3
   },
   "file_extension": ".py",
   "mimetype": "text/x-python",
   "name": "python",
   "nbconvert_exporter": "python",
   "pygments_lexer": "ipython3",
   "version": "3.7.4"
  }
 },
 "nbformat": 4,
 "nbformat_minor": 2
}
