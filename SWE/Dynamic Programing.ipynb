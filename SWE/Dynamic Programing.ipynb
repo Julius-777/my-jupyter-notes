{
 "cells": [
  {
   "cell_type": "markdown",
   "metadata": {},
   "source": [
    "## Summary\n",
    "\n",
    "Dynamic programming is a method by which a solution is determined based on solving\n",
    "successively similar but smaller problems. This technique is used in algorithmic tasks in\n",
    "which the solution of a bigger problem is relatively easy to find, if we have solutions for its\n",
    "sub-problems"
   ]
  }
 ],
 "metadata": {
  "kernelspec": {
   "display_name": "Python 3",
   "language": "python",
   "name": "python3"
  },
  "language_info": {
   "codemirror_mode": {
    "name": "ipython",
    "version": 3
   },
   "file_extension": ".py",
   "mimetype": "text/x-python",
   "name": "python",
   "nbconvert_exporter": "python",
   "pygments_lexer": "ipython3",
   "version": "3.7.4"
  }
 },
 "nbformat": 4,
 "nbformat_minor": 2
}
